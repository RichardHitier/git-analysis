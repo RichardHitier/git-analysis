{
 "cells": [
  {
   "cell_type": "code",
   "execution_count": 10,
   "id": "50551b55-2683-4ace-ba6a-66b4c3502695",
   "metadata": {},
   "outputs": [],
   "source": [
    "from matplotlib import pyplot as plt\n",
    "from os import path\n",
    "import pandas as pd\n",
    "import datetime\n",
    "import io, os, sys, types\n",
    "import import_ipynb\n",
    "\n",
    "from ReadGitTimestamps import history_df"
   ]
  },
  {
   "cell_type": "code",
   "execution_count": 11,
   "id": "935a3ead-5dca-454f-8f6e-fd5de4ecd500",
   "metadata": {},
   "outputs": [],
   "source": [
    "def  nb_commits():\n",
    "    \n",
    "    df_1 = history_df()\n",
    "    df_2 = df_1.copy()\n",
    "    \n",
    "    \n",
    "    df_3 = df_2.groupby(\"day\").date.agg([\"min\", \"max\"])\n",
    "    df_4 = df_3.copy()\n",
    "    \n",
    "    \n",
    "    df_4[\"duration\"] = df_4.apply(lambda x: x[\"max\"] - x[\"min\"], axis=1)\n",
    "    df_4[\"duration_hour\"] = df_4.apply(lambda x: f\"{x['duration'].seconds/3600:.02f}\", axis=1)\n",
    "    df_5 = df_4[\"duration_hour\"].truncate(before=\"2023-09-01\")\n",
    "    # print(df_5)\n",
    "    # df_5 = df_4[\"duration_hour\"].copy()\n",
    "    df_5.index = pd.to_datetime(df_5.index)\n",
    "    new_index = pd.date_range(start=df_5.index[0], end=df_5.index[-1])\n",
    "    df_6 = df_5.reindex(new_index)\n",
    "    df_7=df_6.apply(lambda x:float(x))\n",
    "    \n",
    "    return df_7"
   ]
  }
 ],
 "metadata": {
  "kernelspec": {
   "display_name": "Python 3 (ipykernel)",
   "language": "python",
   "name": "python3"
  },
  "language_info": {
   "codemirror_mode": {
    "name": "ipython",
    "version": 3
   },
   "file_extension": ".py",
   "mimetype": "text/x-python",
   "name": "python",
   "nbconvert_exporter": "python",
   "pygments_lexer": "ipython3",
   "version": "3.11.6"
  }
 },
 "nbformat": 4,
 "nbformat_minor": 5
}
