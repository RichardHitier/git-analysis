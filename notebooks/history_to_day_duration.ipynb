{
 "cells": [
  {
   "cell_type": "code",
   "execution_count": 1,
   "id": "50551b55-2683-4ace-ba6a-66b4c3502695",
   "metadata": {},
   "outputs": [],
   "source": [
    "from os import path\n",
    "import pandas as pd\n",
    "import datetime"
   ]
  },
  {
   "cell_type": "code",
   "execution_count": 7,
   "id": "895519c4-501b-45d5-91e2-315fb46efae5",
   "metadata": {},
   "outputs": [
    {
     "data": {
      "text/plain": [
       "str"
      ]
     },
     "execution_count": 7,
     "metadata": {},
     "output_type": "execute_result"
    }
   ],
   "source": [
    "datafile = path.join(\"../data\", \"ltt.txt\")\n",
    "df_1 = pd.read_csv(datafile, sep=\";\", parse_dates=True)\n",
    "# \n",
    "type(df_1[\"date\"][0])"
   ]
  },
  {
   "cell_type": "code",
   "execution_count": 8,
   "id": "935a3ead-5dca-454f-8f6e-fd5de4ecd500",
   "metadata": {},
   "outputs": [
    {
     "name": "stdout",
     "output_type": "stream",
     "text": [
      "date\n",
      "2023-11-14    0.01\n",
      "2023-11-16    9.48\n",
      "2023-11-17    8.76\n",
      "2023-11-20    0.00\n",
      "2023-11-21    5.15\n",
      "2023-11-22    1.40\n",
      "2023-11-29    0.12\n",
      "2023-11-30    2.97\n",
      "2023-12-04    1.80\n",
      "2023-12-05    0.05\n",
      "2023-12-08    0.80\n",
      "2023-12-11    5.44\n",
      "2023-12-12    0.10\n",
      "2023-12-13    0.00\n",
      "2023-12-14    7.94\n",
      "2023-12-15    9.01\n",
      "2023-12-18    3.80\n",
      "2023-12-19    0.57\n",
      "2023-12-20    0.00\n",
      "2023-12-28    0.26\n",
      "2023-12-29    1.89\n",
      "2024-01-02    1.21\n",
      "2024-01-03    1.78\n",
      "2024-01-04    0.00\n",
      "2024-01-05    8.53\n",
      "2024-01-06    7.28\n",
      "2024-01-08    1.71\n",
      "2024-01-10    1.06\n",
      "2024-01-11    0.84\n",
      "2024-01-15    1.01\n",
      "2024-01-17    5.47\n",
      "2024-01-18    0.04\n",
      "2024-01-22    7.23\n",
      "2024-01-24    3.39\n",
      "2024-01-25    0.00\n",
      "2024-01-29    0.38\n",
      "Name: duration_hour, dtype: object\n"
     ]
    }
   ],
   "source": [
    "df_2 = df_1.copy()\n",
    "df_2['date_hour'] = df_2.apply(lambda x : f\"{x['date']}-{x['hour']}\", axis=1)\n",
    "\n",
    "df_3 = df_2.groupby(\"date\").date_hour.agg([\"min\", \"max\"])\n",
    "df_4 = df_3.copy()\n",
    "\n",
    "df_4[\"min\"] = pd.to_datetime(df_4[\"min\"])\n",
    "df_4[\"max\"] = pd.to_datetime(df_4[\"max\"])\n",
    "df_4[\"duration\"] = df_4.apply(lambda x: x[\"max\"] - x[\"min\"], axis=1)\n",
    "df_4[\"duration_hour\"] = df_4.apply(lambda x: f\"{x['duration'].seconds/3600:.02f}\", axis=1)\n",
    "print(df_4[\"duration_hour\"])"
   ]
  },
  {
   "cell_type": "code",
   "execution_count": 4,
   "id": "873a203b-7d09-48ab-a225-446eff1c26fa",
   "metadata": {},
   "outputs": [
    {
     "data": {
      "text/plain": [
       "8.098888888888888"
      ]
     },
     "execution_count": 4,
     "metadata": {},
     "output_type": "execute_result"
    }
   ],
   "source": [
    "delta = datetime.timedelta(\n",
    "\n",
    "    days=0,\n",
    "\n",
    "    seconds=27,\n",
    "\n",
    "    microseconds=10,\n",
    "\n",
    "    milliseconds=29000,\n",
    "\n",
    "    minutes=5,\n",
    "\n",
    "    hours=8,\n",
    "\n",
    "    weeks=2\n",
    "\n",
    ")\n",
    "delta.seconds/3600"
   ]
  }
 ],
 "metadata": {
  "kernelspec": {
   "display_name": "Python 3 (ipykernel)",
   "language": "python",
   "name": "python3"
  },
  "language_info": {
   "codemirror_mode": {
    "name": "ipython",
    "version": 3
   },
   "file_extension": ".py",
   "mimetype": "text/x-python",
   "name": "python",
   "nbconvert_exporter": "python",
   "pygments_lexer": "ipython3",
   "version": "3.11.6"
  }
 },
 "nbformat": 4,
 "nbformat_minor": 5
}
