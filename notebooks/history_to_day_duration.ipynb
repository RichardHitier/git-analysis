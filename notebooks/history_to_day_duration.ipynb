{
 "cells": [
  {
   "cell_type": "code",
   "execution_count": 1,
   "id": "50551b55-2683-4ace-ba6a-66b4c3502695",
   "metadata": {},
   "outputs": [
    {
     "name": "stdout",
     "output_type": "stream",
     "text": [
      "importing Jupyter notebook from ReadGitTimestamps.ipynb\n"
     ]
    }
   ],
   "source": [
    "from matplotlib import pyplot as plt\n",
    "from os import path\n",
    "import pandas as pd\n",
    "import datetime\n",
    "import io, os, sys, types\n",
    "import import_ipynb\n",
    "\n",
    "from ReadGitTimestamps import history_df"
   ]
  },
  {
   "cell_type": "code",
   "execution_count": 2,
   "id": "67368972-79f8-4aa4-a927-5014331daa4d",
   "metadata": {},
   "outputs": [
    {
     "name": "stdout",
     "output_type": "stream",
     "text": [
      ",duration_hour,duration_day,projet\n",
      "2024-09-03,\"6,24\",\"0,78\",bht2\n",
      "2024-09-04,\"0,33\",\"0,041\",bht2\n",
      "2024-09-05,\"4,21\",\"0,526\",bht2\n",
      "2024-09-06,\"0,31\",\"0,039\",bht2\n",
      "2024-09-07,,,\n",
      "2024-09-08,,,\n",
      "2024-09-09,\"9,22\",\"1,152\",bht2\n",
      "2024-09-10,\"6,68\",\"0,835\",bht2\n",
      "2024-09-11,\"3,31\",\"0,413\",bht2\n",
      "2024-09-12,\"7,12\",\"0,89\",bht2\n",
      "2024-09-13,,,\n",
      "2024-09-14,,,\n",
      "2024-09-15,,,\n",
      "2024-09-16,,,\n",
      "2024-09-17,,,\n",
      "2024-09-18,,,\n",
      "2024-09-19,,,\n",
      "2024-09-20,,,\n",
      "2024-09-21,,,\n",
      "2024-09-22,,,\n",
      "2024-09-23,,,\n",
      "2024-09-24,,,\n",
      "2024-09-25,\"5,87\",\"0,733\",bht2\n",
      "2024-09-26,,,\n",
      "2024-09-27,\"4,76\",\"0,596\",bht2\n",
      "2024-09-28,,,\n",
      "2024-09-29,,,\n",
      "2024-09-30,,,\n",
      "2024-10-01,\"7,04\",\"0,881\",bht2\n",
      "\n"
     ]
    }
   ],
   "source": [
    "def  hours_per_day(project_name, sooner_date=None, later_date=None):\n",
    "    \"\"\" From The git history dataframe,\n",
    "        build a new serie with the number of hours worked each day.\n",
    "        in fact, a delta between last and first commit time for each day.\n",
    "    \"\"\"\n",
    "\n",
    "    if later_date is None:\n",
    "        later_date = datetime.datetime.now\n",
    "        \n",
    "    # get the git history, raw\n",
    "    df_1 = history_df(project_name)\n",
    "    df_2 = df_1.copy()\n",
    "\n",
    "\n",
    "    # day by day, get the min hour, and max hour\n",
    "    df_3 = df_2.groupby(\"day\").date.agg([\"min\", \"max\"])\n",
    "    df_4 = df_3.copy()\n",
    "    \n",
    "\n",
    "    # day by day, get the duration, in hour (float) and day part (float)\n",
    "    df_4[\"duration\"] = df_4.apply(lambda x: x[\"max\"] - x[\"min\"], axis=1)\n",
    "    df_4[\"duration_hour\"] = df_4.apply(lambda x: f\"{x['duration'].seconds/3600:.02f}\", axis=1)\n",
    "    df_4[\"duration_day\"] = df_4.apply(lambda x: f\"{x['duration'].seconds/(3600*8):.03f}\", axis=1)\n",
    "    df_5 = df_4[[\"duration_hour\", \"duration_day\"]].truncate(before=\"2024-09-01\")\n",
    "    # df_5 = df_4[[\"duration_hour\", \"duration_day\"]].truncate(before=sooner_date, after=later_date)\n",
    "    df_5[\"projet\"]=project_name\n",
    "    # print(df_5)\n",
    "    df_5.index = pd.to_datetime(df_5.index)\n",
    "    new_index = pd.date_range(start=df_5.index[0], end=df_5.index[-1])\n",
    "    df_6 = df_5.reindex(new_index)\n",
    "    df_6[\"duration_hour\"] = df_6[\"duration_hour\"].apply(lambda x:float(x))\n",
    "    df_6[\"duration_day\"] = df_6[\"duration_day\"].apply(lambda x:float(x))\n",
    "    \n",
    "    return df_6\n",
    "\n",
    "\n",
    "\n",
    "\n",
    "if __name__ == \"__main__\":\n",
    "    pd.set_option('display.max_rows', None)\n",
    "    _df = hours_per_day(sooner_date=\"2024-09-01\", later_date=\"2024-10-01\")\n",
    "    print(_df.to_csv(decimal=','))\n",
    "    # print(_df.iloc[::-1])\n",
    "    # print(_df)\n",
    "    # print(_df.columns())"
   ]
  },
  {
   "cell_type": "code",
   "execution_count": null,
   "id": "2af2d76d-63e8-4a90-8685-1ce9443ae194",
   "metadata": {},
   "outputs": [],
   "source": []
  },
  {
   "cell_type": "code",
   "execution_count": null,
   "id": "6e4f831e-b30e-4bb3-abae-9d4ab3534aac",
   "metadata": {},
   "outputs": [],
   "source": []
  }
 ],
 "metadata": {
  "kernelspec": {
   "display_name": "Python 3 (ipykernel)",
   "language": "python",
   "name": "python3"
  },
  "language_info": {
   "codemirror_mode": {
    "name": "ipython",
    "version": 3
   },
   "file_extension": ".py",
   "mimetype": "text/x-python",
   "name": "python",
   "nbconvert_exporter": "python",
   "pygments_lexer": "ipython3",
   "version": "3.12.3"
  }
 },
 "nbformat": 4,
 "nbformat_minor": 5
}
