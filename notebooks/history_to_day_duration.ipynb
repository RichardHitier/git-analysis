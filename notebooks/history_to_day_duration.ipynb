{
 "cells": [
  {
   "cell_type": "code",
   "execution_count": 1,
   "id": "50551b55-2683-4ace-ba6a-66b4c3502695",
   "metadata": {},
   "outputs": [
    {
     "name": "stdout",
     "output_type": "stream",
     "text": [
      "importing Jupyter notebook from ReadGitTimestamps.ipynb\n"
     ]
    }
   ],
   "source": [
    "from os import path\n",
    "import pandas as pd\n",
    "import datetime\n",
    "import io, os, sys, types\n",
    "import import_ipynb\n",
    "\n",
    "from ReadGitTimestamps import history_df"
   ]
  },
  {
   "cell_type": "code",
   "execution_count": 9,
   "id": "895519c4-501b-45d5-91e2-315fb46efae5",
   "metadata": {},
   "outputs": [
    {
     "name": "stdout",
     "output_type": "stream",
     "text": [
      "                   date         day      hour  nb_commits\n",
      "0   2024-03-28 15:10:04  2024-03-28  15:10:04           1\n",
      "1   2024-03-28 14:57:30  2024-03-28  14:57:30           1\n",
      "2   2024-03-28 14:56:17  2024-03-28  14:56:17           1\n",
      "3   2024-03-28 14:51:43  2024-03-28  14:51:43           1\n",
      "4   2024-03-28 10:08:11  2024-03-28  10:08:11           1\n",
      "..                  ...         ...       ...         ...\n",
      "679 2022-07-18 13:22:36  2022-07-18  13:22:36           1\n",
      "680 2022-07-18 13:20:48  2022-07-18  13:20:48           1\n",
      "681 2022-07-18 12:23:33  2022-07-18  12:23:33           1\n",
      "682 2022-07-18 12:43:06  2022-07-18  12:43:06           1\n",
      "683 2022-07-18 12:12:15  2022-07-18  12:12:15           1\n",
      "\n",
      "[684 rows x 4 columns]\n"
     ]
    }
   ],
   "source": [
    "df_1 = history_df()\n",
    "print(df_1)\n"
   ]
  },
  {
   "cell_type": "code",
   "execution_count": 24,
   "id": "935a3ead-5dca-454f-8f6e-fd5de4ecd500",
   "metadata": {},
   "outputs": [
    {
     "name": "stdout",
     "output_type": "stream",
     "text": [
      "day\n",
      "2024-01-02    1.21\n",
      "2024-01-03    1.78\n",
      "2024-01-04    0.00\n",
      "2024-01-05    8.53\n",
      "2024-01-06    7.28\n",
      "2024-01-08    1.71\n",
      "2024-01-10    1.06\n",
      "2024-01-11    0.84\n",
      "2024-01-15    1.01\n",
      "2024-01-17    5.47\n",
      "2024-01-18    0.04\n",
      "2024-01-22    7.23\n",
      "2024-01-24    3.39\n",
      "2024-01-25    0.00\n",
      "2024-01-29    0.38\n",
      "2024-02-08    0.04\n",
      "2024-02-14    0.00\n",
      "2024-02-15    0.00\n",
      "2024-02-16    0.00\n",
      "2024-02-20    5.58\n",
      "2024-02-21    7.79\n",
      "2024-02-23    0.00\n",
      "2024-02-26    5.52\n",
      "2024-02-27    6.63\n",
      "2024-02-28    5.97\n",
      "2024-02-29    5.51\n",
      "2024-03-01    1.72\n",
      "2024-03-04    0.00\n",
      "2024-03-05    6.05\n",
      "2024-03-07    1.74\n",
      "2024-03-08    4.94\n",
      "2024-03-18    0.15\n",
      "2024-03-20    0.00\n",
      "2024-03-21    3.73\n",
      "2024-03-22    0.05\n",
      "2024-03-25    6.21\n",
      "2024-03-26    0.84\n",
      "2024-03-27    8.87\n",
      "2024-03-28    5.04\n",
      "Name: duration_hour, dtype: object\n"
     ]
    }
   ],
   "source": [
    "df_2 = df_1.copy()\n",
    "\n",
    "df_3 = df_2.groupby(\"day\").date.agg([\"min\", \"max\"])\n",
    "df_4 = df_3.copy()\n",
    "\n",
    "\n",
    "df_4[\"duration\"] = df_4.apply(lambda x: x[\"max\"] - x[\"min\"], axis=1)\n",
    "df_4[\"duration_hour\"] = df_4.apply(lambda x: f\"{x['duration'].seconds/3600:.02f}\", axis=1)\n",
    "# print(type(df_4))j\n",
    "df_5 = df_4.truncate(before=\"2024-01-01\")\n",
    "print(df_5[\"duration_hour\"])\n",
    "# print(df_4[\"duration_hour\"])"
   ]
  },
  {
   "cell_type": "code",
   "execution_count": null,
   "id": "018f9dce-4995-4d5e-a83f-b9b8856a1e47",
   "metadata": {},
   "outputs": [],
   "source": []
  }
 ],
 "metadata": {
  "kernelspec": {
   "display_name": "Python 3 (ipykernel)",
   "language": "python",
   "name": "python3"
  },
  "language_info": {
   "codemirror_mode": {
    "name": "ipython",
    "version": 3
   },
   "file_extension": ".py",
   "mimetype": "text/x-python",
   "name": "python",
   "nbconvert_exporter": "python",
   "pygments_lexer": "ipython3",
   "version": "3.11.6"
  }
 },
 "nbformat": 4,
 "nbformat_minor": 5
}
