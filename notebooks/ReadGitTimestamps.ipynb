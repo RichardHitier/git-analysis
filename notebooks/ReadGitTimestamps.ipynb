{
 "cells": [
  {
   "cell_type": "code",
   "execution_count": 1,
   "id": "4508f8f5-ee2a-4e06-ac60-a95f2d39adfc",
   "metadata": {},
   "outputs": [
    {
     "name": "stdout",
     "output_type": "stream",
     "text": [
      "                   date         day      hour  nb_commits\n",
      "0   2024-03-28 15:10:04  2024-03-28  15:10:04           1\n",
      "1   2024-03-28 14:57:30  2024-03-28  14:57:30           1\n",
      "2   2024-03-28 14:56:17  2024-03-28  14:56:17           1\n",
      "3   2024-03-28 14:51:43  2024-03-28  14:51:43           1\n",
      "4   2024-03-28 10:08:11  2024-03-28  10:08:11           1\n",
      "..                  ...         ...       ...         ...\n",
      "679 2022-07-18 13:22:36  2022-07-18  13:22:36           1\n",
      "680 2022-07-18 13:20:48  2022-07-18  13:20:48           1\n",
      "681 2022-07-18 12:23:33  2022-07-18  12:23:33           1\n",
      "682 2022-07-18 12:43:06  2022-07-18  12:43:06           1\n",
      "683 2022-07-18 12:12:15  2022-07-18  12:12:15           1\n",
      "\n",
      "[684 rows x 4 columns]\n"
     ]
    }
   ],
   "source": [
    "import pandas as pd\n",
    "from datetime import datetime\n",
    "\n",
    "import subprocess\n",
    "\n",
    "def history_df():\n",
    "\n",
    "    # run git on repo\n",
    "    gitlog_args = ['git', '--git-dir=/home/richard/01DEV/bht2/.git', 'log', '--pretty=\"%at\"']\n",
    "    gitlog_out = subprocess.check_output(gitlog_args , stderr=subprocess.STDOUT)\n",
    "\n",
    "    # transform to timestamp list \n",
    "    gitlog_str_out = gitlog_out.decode(\"utf-8\")\n",
    "    gitlog_str_out = gitlog_str_out.replace('\"', '')\n",
    "    gitlog_str_list = gitlog_str_out.split('\\n')\n",
    "\n",
    "    # make the datas list\n",
    "    ts_list = list(map(lambda x: int(x), gitlog_str_list[:-2]))\n",
    "    date_list = list(map(lambda X: pd.to_datetime(X, unit=\"s\"), ts_list))\n",
    "    day_list = list(map(lambda X: datetime.strftime(X, \"%Y-%m-%d\"), date_list))\n",
    "    hour_list = list(map(lambda X: datetime.strftime(X, \"%H:%M:%S\"), date_list))\n",
    "    \n",
    "    data = zip(date_list, day_list, hour_list)\n",
    "\n",
    "    # and return pandas dataframe\n",
    "    _df = pd.DataFrame(data, columns=[\"date\", \"day\", \"hour\"])\n",
    "    # _df.set_index(\"date\", inplace=True)\n",
    "    _df[\"nb_commits\"]=1\n",
    "    \n",
    "    return _df\n",
    "\n",
    "\n",
    "if __name__ == \"__main__\":\n",
    "    print(history_df())\n"
   ]
  }
 ],
 "metadata": {
  "kernelspec": {
   "display_name": "Python 3 (ipykernel)",
   "language": "python",
   "name": "python3"
  },
  "language_info": {
   "codemirror_mode": {
    "name": "ipython",
    "version": 3
   },
   "file_extension": ".py",
   "mimetype": "text/x-python",
   "name": "python",
   "nbconvert_exporter": "python",
   "pygments_lexer": "ipython3",
   "version": "3.11.6"
  }
 },
 "nbformat": 4,
 "nbformat_minor": 5
}
