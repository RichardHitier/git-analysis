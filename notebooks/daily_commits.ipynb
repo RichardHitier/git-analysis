{
 "cells": [
  {
   "cell_type": "code",
   "execution_count": 11,
   "id": "cdf237cc-839b-4e6e-ad9e-6aa455c57512",
   "metadata": {},
   "outputs": [],
   "source": [
    "from os import path\n",
    "import pandas as pd\n",
    "\n",
    "import import_ipynb\n",
    "from ReadGitTimestamps import history_df\n",
    "\n",
    "\n",
    "def daily_commits():\n",
    "    \n",
    "    _df=history_df()\n",
    "    _df.index = _df.day\n",
    "    _df.rename(columns={\"nb_commits\": \"commits\"}, inplace=True)\n",
    "    _df.drop(columns=[\"date\", \"hour\", \"day\"], inplace=True)\n",
    "    _df.index = pd.to_datetime(_df.index)\n",
    "    \n",
    "    \n",
    "    # groupby_key = \"date\"\n",
    "    groupby_key = \"day\"\n",
    "    \n",
    "    _df_agg = _df.groupby(groupby_key).agg(\"sum\")\n",
    "    \n",
    "    _df_agg.sort_values(groupby_key, inplace=True)\n",
    "    \n",
    "    \n",
    "    start_date = _df_agg.index[0]\n",
    "    end_date = _df_agg.index[-1]\n",
    "    \n",
    "    new_index = pd.date_range(start=start_date, end=end_date, freq=\"d\")\n",
    "    \n",
    "    _df_reindexed = _df_agg.reindex(new_index)\n",
    "    \n",
    "    _df_cutted = _df_reindexed.truncate(before=\"2023-09-01\")\n",
    "    # _df_cutted = _df_reindexed.copy()\n",
    "    \n",
    "\n",
    "    return _df_cutted\n"
   ]
  }
 ],
 "metadata": {
  "kernelspec": {
   "display_name": "Python 3 (ipykernel)",
   "language": "python",
   "name": "python3"
  },
  "language_info": {
   "codemirror_mode": {
    "name": "ipython",
    "version": 3
   },
   "file_extension": ".py",
   "mimetype": "text/x-python",
   "name": "python",
   "nbconvert_exporter": "python",
   "pygments_lexer": "ipython3",
   "version": "3.11.6"
  }
 },
 "nbformat": 4,
 "nbformat_minor": 5
}
