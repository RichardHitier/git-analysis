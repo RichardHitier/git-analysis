{
 "cells": [
  {
   "cell_type": "code",
   "execution_count": 9,
   "id": "cdf237cc-839b-4e6e-ad9e-6aa455c57512",
   "metadata": {},
   "outputs": [],
   "source": [
    "import pandas as pd\n",
    "\n",
    "\n",
    "from matplotlib import pyplot as plt\n",
    "\n",
    "\n",
    "_df = pd.read_csv(\"../bht2.gitactivity\", parse_dates=True, sep=\";\", index_col=\"date\")\n",
    "\n",
    "_df_agg = _df.groupby(\"date\").agg(\"sum\")\n",
    "\n",
    "_df_agg.sort_values(\"date\", inplace=True)\n",
    "\n",
    "\n",
    "start_date = _df_agg.index[0]\n",
    "end_date = _df_agg.index[-1]\n",
    "\n",
    "new_index = pd.date_range(start=start_date, end=end_date, freq=\"d\")\n",
    "\n",
    "_df_reindexed = _df_agg.reindex(new_index)\n",
    "\n",
    "_df_cutted = _df_reindexed.truncate(before=\"2023-11-01\")\n",
    "\n",
    "\n",
    "\n",
    "        "
   ]
  },
  {
   "cell_type": "code",
   "execution_count": null,
   "id": "ec481904-60f6-44b4-872e-8a0e07abc959",
   "metadata": {},
   "outputs": [],
   "source": []
  }
 ],
 "metadata": {
  "kernelspec": {
   "display_name": "Python 3 (ipykernel)",
   "language": "python",
   "name": "python3"
  },
  "language_info": {
   "codemirror_mode": {
    "name": "ipython",
    "version": 3
   },
   "file_extension": ".py",
   "mimetype": "text/x-python",
   "name": "python",
   "nbconvert_exporter": "python",
   "pygments_lexer": "ipython3",
   "version": "3.11.6"
  }
 },
 "nbformat": 4,
 "nbformat_minor": 5
}
