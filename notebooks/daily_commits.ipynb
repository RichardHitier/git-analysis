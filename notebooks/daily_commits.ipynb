{
 "cells": [
  {
   "cell_type": "code",
   "execution_count": 42,
   "id": "cdf237cc-839b-4e6e-ad9e-6aa455c57512",
   "metadata": {},
   "outputs": [
    {
     "name": "stdout",
     "output_type": "stream",
     "text": [
      "            commits\n",
      "day                \n",
      "2024-03-28        1\n",
      "2024-03-28        1\n",
      "2024-03-28        1\n",
      "2024-03-28        1\n",
      "2024-03-28        1\n",
      "...             ...\n",
      "2022-07-18        1\n",
      "2022-07-18        1\n",
      "2022-07-18        1\n",
      "2022-07-18        1\n",
      "2022-07-18        1\n",
      "\n",
      "[684 rows x 1 columns]\n"
     ]
    }
   ],
   "source": [
    "from os import path\n",
    "import pandas as pd\n",
    "\n",
    "import import_ipynb\n",
    "from ReadGitTimestamps import history_df\n",
    "\n",
    "\n",
    "\n",
    "from matplotlib import pyplot as plt\n",
    "\n",
    "# print(_df)\n",
    "# print(history_df())\n",
    "\n",
    "\n",
    "# _df = _df[\"nb_commits\"]\n",
    "# print(type(_df.index[0]))\n",
    "\n",
    "\n",
    "def get_df1():\n",
    "    datafile = path.join(\"../data\", \"bht2.gitactivity\")\n",
    "    _df = pd.read_csv(datafile, parse_dates=True, sep=\";\", index_col=\"date\")\n",
    "    _df.rename(columns=lambda x: x.strip(), inplace=True)\n",
    "    return _df\n",
    "\n",
    "def get_df2():\n",
    "    _df=history_df()\n",
    "    _df.index = _df.day\n",
    "    _df.rename(columns={\"nb_commits\": \"commits\"}, inplace=True)\n",
    "    _df.drop(columns=[\"date\", \"hour\", \"day\"], inplace=True)\n",
    "    # _df = _df[\"commits\"]o\n",
    "    _df.index = pd.to_datetime(_df.index)\n",
    "    return _df\n",
    "\n",
    "_df = get_df2()\n",
    "\n",
    "print(_df)\n",
    "\n",
    "# groupby_key = \"date\"\n",
    "groupby_key = \"day\"\n",
    "\n",
    "_df_agg = _df.groupby(groupby_key).agg(\"sum\")\n",
    "\n",
    "_df_agg.sort_values(groupby_key, inplace=True)\n",
    "\n",
    "\n",
    "start_date = _df_agg.index[0]\n",
    "end_date = _df_agg.index[-1]\n",
    "\n",
    "new_index = pd.date_range(start=start_date, end=end_date, freq=\"d\")\n",
    "\n",
    "_df_reindexed = _df_agg.reindex(new_index)\n",
    "\n",
    "# _df_cutted = _df_reindexed.truncate(before=\"2023-09-01\")\n",
    "_df_cutted = _df_reindexed.copy()\n",
    "\n",
    "\n"
   ]
  },
  {
   "cell_type": "code",
   "execution_count": 41,
   "id": "ec481904-60f6-44b4-872e-8a0e07abc959",
   "metadata": {},
   "outputs": [
    {
     "data": {
      "image/png": "[encoded data removed]",
      "text/plain": [
       "<Figure size 640x480 with 1 Axes>"
      ]
     },
     "metadata": {},
     "output_type": "display_data"
    }
   ],
   "source": [
    "fig, ax = plt.subplots()\n",
    "# _data_frame = _df_reindexed\n",
    "_data_frame = _df_cutted\n",
    "ax.bar(_data_frame.index, _data_frame.commits)\n",
    "fig.autofmt_xdate()\n",
    "# plt.xticks(rotation = 45)\n",
    "plt.show()"
   ]
  }
 ],
 "metadata": {
  "kernelspec": {
   "display_name": "Python 3 (ipykernel)",
   "language": "python",
   "name": "python3"
  },
  "language_info": {
   "codemirror_mode": {
    "name": "ipython",
    "version": 3
   },
   "file_extension": ".py",
   "mimetype": "text/x-python",
   "name": "python",
   "nbconvert_exporter": "python",
   "pygments_lexer": "ipython3",
   "version": "3.11.6"
  }
 },
 "nbformat": 4,
 "nbformat_minor": 5
}
